{
 "cells": [
  {
   "cell_type": "markdown",
   "metadata": {
    "colab_type": "text",
    "id": "fmQnXLTGrT_g"
   },
   "source": [
    "# Project Two: A Subreddit Analysis of the Republican and Democratic Parties Using Classification Models"
   ]
  },
  {
   "cell_type": "markdown",
   "metadata": {
    "colab_type": "text",
    "id": "3YL0HIC-rOy8"
   },
   "source": [
    "## Executive Summary"
   ]
  },
  {
   "cell_type": "markdown",
   "metadata": {
    "colab_type": "text",
    "id": "_bTdUxlnrwXN"
   },
   "source": [
    "Tasked with evalauting patterns in the r/Republican and r/democrats subreddit, I created a model that predicted with about 70% accuracy on whether a particular set of words or phrases could determine whether someone posted in the democrat or Republican subreddits. Based on the performance of the model, I recommend that further analysis be taken to give weight to certain words based on whether they use those words in a positive or negative way. For example, is President Trump used in more positive phrases or negative ones."
   ]
  },
  {
   "cell_type": "markdown",
   "metadata": {
    "colab_type": "text",
    "id": "rVhtdgNcq1zq"
   },
   "source": [
    "## Step 1: Define the problem."
   ]
  },
  {
   "cell_type": "markdown",
   "metadata": {
    "colab_type": "text",
    "id": "wyKijT-5us7p"
   },
   "source": [
    "As a political analyst for *Bring Back Democracy*, I have been asked to analyze the subreddits for Republicans and Democrats of [Reddit.com](https://www.reddit.com/).\n",
    "\n",
    "My analysis involved reviewing the most prevelent topics of interest for each group to identify similarities and differences and, most importantly, to be able to predict classify future topics by political party. In this way, we will be able to better understand the interests of each party on an ongoing basis.\n",
    "\n",
    "The question we wanted to answer is:\n",
    "\n",
    "\n",
    "> Is the content in each political party's subreddit enough to predict which political party users are affiliated with?"
   ]
  },
  {
   "cell_type": "markdown",
   "metadata": {
    "colab_type": "text",
    "id": "UcXj72TUwFIt"
   },
   "source": [
    "## Step 2: Data Collection (Keep Commented Areas Commented to Run All)"
   ]
  },
  {
   "cell_type": "markdown",
   "metadata": {
    "colab_type": "text",
    "id": "5GFJy4haw-tP"
   },
   "source": [
    "### Import Libraries"
   ]
  },
  {
   "cell_type": "code",
   "execution_count": 1,
   "metadata": {
    "colab": {
     "base_uri": "https://localhost:8080/",
     "height": 87
    },
    "colab_type": "code",
    "id": "WZeB_CbyXQQc",
    "outputId": "3726f3bc-881d-4dbc-b2e6-db20ea8dfe55"
   },
   "outputs": [],
   "source": [
    "import collections\n",
    "import pandas as pd\n",
    "import matplotlib.pyplot as plt\n",
    "%matplotlib inline\n",
    "\n",
    "import numpy as np\n",
    "import pandas as pd\n",
    "\n",
    "import matplotlib.pyplot as plt\n",
    "import plotly.express as px\n",
    "%matplotlib inline\n",
    "import seaborn as sns\n",
    "\n",
    "import requests\n",
    "\n",
    "from sklearn import metrics\n",
    "from sklearn.metrics import confusion_matrix, classification_report\n",
    "from sklearn.model_selection import train_test_split, GridSearchCV\n",
    "from sklearn.pipeline import Pipeline\n",
    "from sklearn.pipeline import make_pipeline\n",
    "from sklearn.linear_model import LogisticRegression\n",
    "from sklearn.naive_bayes import MultinomialNB, BernoulliNB, GaussianNB\n",
    "from sklearn.ensemble import RandomForestClassifier, ExtraTreesClassifier\n",
    "\n",
    "# Import CountVectorizer and TFIDFVectorizer from feature_extraction.text.\n",
    "from sklearn.feature_extraction.text import CountVectorizer, TfidfVectorizer\n",
    "\n",
    "from wordcloud import WordCloud, STOPWORDS, ImageColorGenerator\n",
    "from nltk.corpus import stopwords\n",
    "\n",
    "import nltk\n",
    "from nltk.probability import FreqDist\n",
    "\n",
    "import nltk\n",
    "from nltk.tokenize import RegexpTokenizer\n",
    "from nltk.stem import WordNetLemmatizer,PorterStemmer\n",
    "from nltk.corpus import stopwords\n",
    "import re"
   ]
  },
  {
   "cell_type": "code",
   "execution_count": 2,
   "metadata": {
    "colab": {},
    "colab_type": "code",
    "id": "p-ZXH0k2l1mW"
   },
   "outputs": [],
   "source": [
    "# change max rows to 999\n",
    "pd.options.display.max_rows = 3000"
   ]
  },
  {
   "cell_type": "code",
   "execution_count": 3,
   "metadata": {
    "colab": {},
    "colab_type": "code",
    "id": "TMxiTzjUoJ31"
   },
   "outputs": [],
   "source": [
    "# change max columns to 999\n",
    "pd.options.display.max_columns = 999"
   ]
  },
  {
   "cell_type": "markdown",
   "metadata": {
    "colab_type": "text",
    "id": "-MMjU8VrY1VH"
   },
   "source": [
    "#### Subreddit - r/Republican"
   ]
  },
  {
   "cell_type": "code",
   "execution_count": 4,
   "metadata": {
    "colab": {},
    "colab_type": "code",
    "id": "FAMv4n9gXBfc"
   },
   "outputs": [],
   "source": [
    "# # grab URL\n",
    "# base_url = 'https://api.pushshift.io/reddit/search/submission?subreddit=Republican'\n",
    "\n",
    "# # set up response params\n",
    "# # check out other parameter options: https://github.com/pushshift/api\n",
    "# params = {'subreddit': 'Republican',\n",
    "#         'size': 500\n",
    "#         }\n",
    "\n",
    "# res = requests.get(base_url, params)\n",
    "# res.status_code\n",
    "# data = res.json()\n",
    "# posts = data['data']\n",
    "\n",
    "# # turn all post information into a DataFrame\n",
    "# # this is possible because it is a list of dictionaries\n",
    "# df = pd.DataFrame(posts)\n",
    "\n",
    "# # # # Only take features relevant to the project\n",
    "# # # These are the ones I think I want\n",
    "# # df = df[['subreddit', 'title', 'selftext', 'created_utc']]\n",
    "\n",
    "# # # export to csv for combining\n",
    "# df.to_csv('republican1.csv', index=False)"
   ]
  },
  {
   "cell_type": "code",
   "execution_count": 5,
   "metadata": {
    "colab": {},
    "colab_type": "code",
    "id": "L42BJ1gS595X"
   },
   "outputs": [],
   "source": [
    "# # sort from oldest to newest\n",
    "# df['created_utc'].sort_values(ascending=True).head()"
   ]
  },
  {
   "cell_type": "code",
   "execution_count": 6,
   "metadata": {
    "colab": {},
    "colab_type": "code",
    "id": "JNYtfSPE24wN"
   },
   "outputs": [],
   "source": [
    "# # grab URL\n",
    "# base_url = 'https://api.pushshift.io/reddit/search/submission?subreddit=Republican'\n",
    "\n",
    "# # set up response params\n",
    "# # check out other parameter options: https://github.com/pushshift/api\n",
    "# params = {'subreddit': 'Republican',\n",
    "#         'size': 500,\n",
    "#         'before': 1585110210 # insert new timestamp\n",
    "#         }\n",
    "\n",
    "# res = requests.get(base_url, params)\n",
    "# res.status_code\n",
    "# data = res.json()\n",
    "# posts = data['data']\n",
    "\n",
    "# # turn all post information into a DataFrame\n",
    "# # this is possible because it is a list of dictionaries\n",
    "# df = pd.DataFrame(posts)\n",
    "\n",
    "# # # Only take features relevant to the project\n",
    "# # df = df[['subreddit', 'title', 'selftext', 'created_utc']]\n",
    "\n",
    "# # export to csv for combining\n",
    "# df.to_csv('republican99.csv', index=False) # don't forget to change this"
   ]
  },
  {
   "cell_type": "code",
   "execution_count": 7,
   "metadata": {
    "colab": {},
    "colab_type": "code",
    "id": "tsvSTLil921Y"
   },
   "outputs": [],
   "source": [
    "# # sort from oldest to newest\n",
    "# df['created_utc'].sort_values(ascending=True).head()"
   ]
  },
  {
   "cell_type": "markdown",
   "metadata": {
    "colab_type": "text",
    "id": "mXGaT555D-u1"
   },
   "source": [
    "#### Subreddit - r/democrats"
   ]
  },
  {
   "cell_type": "code",
   "execution_count": 8,
   "metadata": {
    "colab": {},
    "colab_type": "code",
    "id": "NIwASqbHFF33"
   },
   "outputs": [],
   "source": [
    "# # grab URL\n",
    "# base_url = 'https://api.pushshift.io/reddit/search/submission?subreddit=democrats'\n",
    "\n",
    "# # set up response params\n",
    "# # check out other parameter options: https://github.com/pushshift/api\n",
    "# params = {'subreddit': 'democrats',\n",
    "#         'size': 500\n",
    "#         }\n",
    "\n",
    "# res = requests.get(base_url, params)\n",
    "# res.status_code\n",
    "# data = res.json()\n",
    "# posts = data['data']\n",
    "\n",
    "# # turn all post information into a DataFrame\n",
    "# # this is possible because it is a list of dictionaries\n",
    "# df = pd.DataFrame(posts)\n",
    "\n",
    "# # # # Only take features relevant to the project\n",
    "# # # These are the ones I think I want\n",
    "# # df = df[['subreddit', 'title', 'selftext', 'created_utc']]\n",
    "\n",
    "# # # export to csv for combining\n",
    "# df.to_csv('democrats1.csv', index=False)"
   ]
  },
  {
   "cell_type": "code",
   "execution_count": 9,
   "metadata": {
    "colab": {},
    "colab_type": "code",
    "id": "VAMq8bquFLq1"
   },
   "outputs": [],
   "source": [
    "# # sort from oldest to newest\n",
    "# df['created_utc'].sort_values(ascending=True).head()"
   ]
  },
  {
   "cell_type": "code",
   "execution_count": 10,
   "metadata": {
    "colab": {},
    "colab_type": "code",
    "id": "b5Qie_rHFOGE"
   },
   "outputs": [],
   "source": [
    "# # grab URL\n",
    "# base_url = 'https://api.pushshift.io/reddit/search/submission?subreddit=democrats'\n",
    "\n",
    "# # set up response params\n",
    "# # check out other parameter options: https://github.com/pushshift/api\n",
    "# params = {'subreddit': 'democrats',\n",
    "#         'size': 500,\n",
    "#         'before': 1583537826 # insert new timestamp\n",
    "#         }\n",
    "\n",
    "# res = requests.get(base_url, params)\n",
    "# res.status_code\n",
    "# data = res.json()\n",
    "# posts = data['data']\n",
    "\n",
    "# # turn all post information into a DataFrame\n",
    "# # this is possible because it is a list of dictionaries\n",
    "# df = pd.DataFrame(posts)\n",
    "\n",
    "# # # Only take features relevant to the project\n",
    "# # df = df[['subreddit', 'title', 'selftext', 'created_utc']]\n",
    "\n",
    "# # export to csv for combining\n",
    "# df.to_csv('democrats99.csv', index=False) # don't forget to change this"
   ]
  },
  {
   "cell_type": "code",
   "execution_count": 11,
   "metadata": {
    "colab": {},
    "colab_type": "code",
    "id": "NRRcjiKxFR2v"
   },
   "outputs": [],
   "source": [
    "# # sort from oldest to newest\n",
    "# df['created_utc'].sort_values(ascending=True).head()"
   ]
  },
  {
   "cell_type": "markdown",
   "metadata": {
    "colab_type": "text",
    "id": "td0_iVjkwPld"
   },
   "source": [
    "## Step 3: Data Cleaning & EDA."
   ]
  },
  {
   "cell_type": "markdown",
   "metadata": {
    "colab_type": "text",
    "id": "ibB_tCRVInmf"
   },
   "source": [
    "#### Convert CSV Files to DataFrame and Merge"
   ]
  },
  {
   "cell_type": "code",
   "execution_count": 12,
   "metadata": {
    "colab": {},
    "colab_type": "code",
    "id": "vmJ6TS3JZ-84"
   },
   "outputs": [],
   "source": [
    "# df1 = pd.read_csv('republican1.csv')\n",
    "# df2 = pd.read_csv('republican2.csv')\n",
    "# df3 = pd.read_csv('republican3.csv')\n",
    "# df4 = pd.read_csv('republican4.csv')\n",
    "# df5 = pd.read_csv('republican5.csv')\n",
    "# df6 = pd.read_csv('republican6.csv')\n",
    "# df7 = pd.read_csv('republican7.csv')\n",
    "# df8 = pd.read_csv('republican8.csv')\n",
    "# df9 = pd.read_csv('republican9.csv')\n",
    "# df10 = pd.read_csv('republican10.csv')\n",
    "# df11 = pd.read_csv('republican11.csv')\n",
    "# df12 = pd.read_csv('republican12.csv')\n",
    "# df13 = pd.read_csv('republican13.csv')\n",
    "# df14 = pd.read_csv('republican14.csv')\n",
    "# df15 = pd.read_csv('republican15.csv')\n",
    "# df16 = pd.read_csv('republican16.csv')\n",
    "# df17 = pd.read_csv('republican17.csv')\n",
    "# df18 = pd.read_csv('republican18.csv')\n",
    "# df19 = pd.read_csv('republican19.csv')\n",
    "# df20 = pd.read_csv('republican20.csv')\n",
    "# df_rep = pd.concat([df1,df2,df3,df4,df5,\n",
    "#               df6,df7,df8,df9,df10, df11,\n",
    "#               df12, df13, df14, df15, df16,\n",
    "#               df17, df18, df19, df20])"
   ]
  },
  {
   "cell_type": "code",
   "execution_count": 13,
   "metadata": {
    "colab": {},
    "colab_type": "code",
    "id": "hxdg56FJYTh5"
   },
   "outputs": [],
   "source": [
    "# df1 = pd.read_csv('democrats1.csv')\n",
    "# df2 = pd.read_csv('democrats2.csv')\n",
    "# df3 = pd.read_csv('democrats3.csv')\n",
    "# df4 = pd.read_csv('democrats4.csv')\n",
    "# df5 = pd.read_csv('democrats5.csv')\n",
    "# df6 = pd.read_csv('democrats6.csv')\n",
    "# df7 = pd.read_csv('democrats7.csv')\n",
    "# df8 = pd.read_csv('democrats8.csv')\n",
    "# df9 = pd.read_csv('democrats9.csv')\n",
    "# df10 = pd.read_csv('democrats10.csv')\n",
    "# df11 = pd.read_csv('democrats11.csv')\n",
    "# df12 = pd.read_csv('democrats12.csv')\n",
    "# df13 = pd.read_csv('democrats13.csv')\n",
    "# df14 = pd.read_csv('democrats14.csv')\n",
    "# df15 = pd.read_csv('democrats15.csv')\n",
    "# df16 = pd.read_csv('democrats16.csv')\n",
    "# df17 = pd.read_csv('democrats17.csv')\n",
    "# df18 = pd.read_csv('democrats18.csv')\n",
    "# df19 = pd.read_csv('democrats19.csv')\n",
    "# df20 = pd.read_csv('democrats20.csv')\n",
    "# df_dem = pd.concat([df1,df2,df3,df4,df5,\n",
    "#               df6,df7,df8,df9,df10, df11,\n",
    "#               df12, df13, df14, df15, df16,\n",
    "#               df17, df18, df19, df20])"
   ]
  },
  {
   "cell_type": "code",
   "execution_count": 14,
   "metadata": {
    "colab": {},
    "colab_type": "code",
    "id": "Iv2NjbGybYVv"
   },
   "outputs": [],
   "source": [
    "# df = pd.concat([df_rep, df_dem])"
   ]
  },
  {
   "cell_type": "markdown",
   "metadata": {
    "colab_type": "text",
    "id": "kYg1SlBE02ej"
   },
   "source": [
    "#### Export Merged DataFrame"
   ]
  },
  {
   "cell_type": "code",
   "execution_count": 15,
   "metadata": {
    "colab": {},
    "colab_type": "code",
    "id": "GpSNxMdZbifO"
   },
   "outputs": [],
   "source": [
    "# df.to_csv('combined.csv', index=False)"
   ]
  },
  {
   "cell_type": "markdown",
   "metadata": {
    "colab_type": "text",
    "id": "T00ZWkiZY9Tx"
   },
   "source": [
    "#### Create Initial DataFrame"
   ]
  },
  {
   "cell_type": "code",
   "execution_count": 16,
   "metadata": {
    "colab": {
     "base_uri": "https://localhost:8080/",
     "height": 35
    },
    "colab_type": "code",
    "id": "3_O3hljLXatX",
    "outputId": "f4fa8286-90ba-4a10-85a2-31cf32b07434"
   },
   "outputs": [
    {
     "data": {
      "text/plain": [
       "'/Users/ianirizarry/Desktop/DSIR/Submissions/project_3-master'"
      ]
     },
     "execution_count": 16,
     "metadata": {},
     "output_type": "execute_result"
    }
   ],
   "source": [
    "pwd"
   ]
  },
  {
   "cell_type": "code",
   "execution_count": 17,
   "metadata": {
    "colab": {},
    "colab_type": "code",
    "id": "NSUIhKLc19gD"
   },
   "outputs": [],
   "source": [
    "# df = pd.read_csv('./data/combined.csv')"
   ]
  },
  {
   "cell_type": "markdown",
   "metadata": {
    "colab_type": "text",
    "id": "Z7-wl1Gtvk5-"
   },
   "source": [
    "#### Explore and Clean Data"
   ]
  },
  {
   "cell_type": "code",
   "execution_count": 18,
   "metadata": {
    "colab": {},
    "colab_type": "code",
    "id": "zCThGjvJjNwL"
   },
   "outputs": [],
   "source": [
    "# df.isnull().mean() * 100"
   ]
  },
  {
   "cell_type": "code",
   "execution_count": 19,
   "metadata": {
    "colab": {},
    "colab_type": "code",
    "id": "Ht7bLgfOuG_O"
   },
   "outputs": [],
   "source": [
    "# df.shape"
   ]
  },
  {
   "cell_type": "code",
   "execution_count": 20,
   "metadata": {
    "colab": {},
    "colab_type": "code",
    "id": "y4WPmgxzut5o"
   },
   "outputs": [],
   "source": [
    "# df = df.loc[:, df.isnull().mean() < .30]"
   ]
  },
  {
   "cell_type": "code",
   "execution_count": 21,
   "metadata": {
    "colab": {},
    "colab_type": "code",
    "id": "-tPPNcs_u-wf"
   },
   "outputs": [],
   "source": [
    "# df.shape"
   ]
  },
  {
   "cell_type": "code",
   "execution_count": 22,
   "metadata": {
    "colab": {},
    "colab_type": "code",
    "id": "w9_nkd7k2Ova"
   },
   "outputs": [],
   "source": [
    "# # Convert all columns to lowercase and replace spaces in column names.\n",
    "# df.columns.str.lower().str.replace(' ', '_')"
   ]
  },
  {
   "cell_type": "code",
   "execution_count": 23,
   "metadata": {
    "colab": {},
    "colab_type": "code",
    "id": "UoFFdV7S38bK"
   },
   "outputs": [],
   "source": [
    "# df.isnull().sum()"
   ]
  },
  {
   "cell_type": "code",
   "execution_count": 24,
   "metadata": {
    "colab": {},
    "colab_type": "code",
    "id": "ejmzkG8v30sA"
   },
   "outputs": [],
   "source": [
    "# df.dropna(inplace=True)"
   ]
  },
  {
   "cell_type": "code",
   "execution_count": 25,
   "metadata": {
    "colab": {},
    "colab_type": "code",
    "id": "KnbVBJE_4ZOh"
   },
   "outputs": [],
   "source": [
    "# df.isnull().sum()"
   ]
  },
  {
   "cell_type": "code",
   "execution_count": 26,
   "metadata": {
    "colab": {},
    "colab_type": "code",
    "id": "6Trtiw-GOFwf"
   },
   "outputs": [],
   "source": [
    "# df.dtypes"
   ]
  },
  {
   "cell_type": "markdown",
   "metadata": {
    "colab_type": "text",
    "id": "moC3ZnNkyKmB"
   },
   "source": [
    "### Export Cleaned Data as CSV"
   ]
  },
  {
   "cell_type": "code",
   "execution_count": 27,
   "metadata": {
    "colab": {},
    "colab_type": "code",
    "id": "bRvUfg61cYbR"
   },
   "outputs": [],
   "source": [
    "# # export the cleaned version of the data\n",
    "# df.to_csv('clean.csv', index=False)"
   ]
  },
  {
   "cell_type": "markdown",
   "metadata": {
    "colab_type": "text",
    "id": "zwC008WrwUVK"
   },
   "source": [
    "## Step 4: Preprocessing & Modeling."
   ]
  },
  {
   "cell_type": "markdown",
   "metadata": {
    "colab_type": "text",
    "id": "QqqGlBiRyP76"
   },
   "source": [
    "### Import Cleaned Data CSV"
   ]
  },
  {
   "cell_type": "code",
   "execution_count": 28,
   "metadata": {
    "colab": {},
    "colab_type": "code",
    "id": "eE0OVEjzZ4q8"
   },
   "outputs": [],
   "source": [
    "df = pd.read_csv('clean.csv', usecols=['subreddit', 'title'])"
   ]
  },
  {
   "cell_type": "code",
   "execution_count": 34,
   "metadata": {},
   "outputs": [
    {
     "name": "stdout",
     "output_type": "stream",
     "text": [
      "<class 'pandas.core.frame.DataFrame'>\n",
      "RangeIndex: 19374 entries, 0 to 19373\n",
      "Data columns (total 2 columns):\n",
      " #   Column     Non-Null Count  Dtype \n",
      "---  ------     --------------  ----- \n",
      " 0   subreddit  19374 non-null  object\n",
      " 1   title      19374 non-null  object\n",
      "dtypes: object(2)\n",
      "memory usage: 302.8+ KB\n"
     ]
    }
   ],
   "source": [
    "df.info()"
   ]
  },
  {
   "cell_type": "code",
   "execution_count": 32,
   "metadata": {
    "colab": {},
    "colab_type": "code",
    "id": "qYexJLypXQQh"
   },
   "outputs": [],
   "source": [
    "democrats = df[df['subreddit'] == 'democrats'].shape\n",
    "Republican = df[df['subreddit'] == 'Republican'].shape"
   ]
  },
  {
   "cell_type": "code",
   "execution_count": 33,
   "metadata": {
    "colab": {
     "base_uri": "https://localhost:8080/",
     "height": 281
    },
    "colab_type": "code",
    "id": "TIpHLklCXQQj",
    "outputId": "6a5d447e-6755-40d6-a331-a95dcf2b8b65"
   },
   "outputs": [
    {
     "data": {
      "image/png": "[encoded data removed]",
      "text/plain": [
       "<Figure size 432x288 with 1 Axes>"
      ]
     },
     "metadata": {
      "needs_background": "light"
     },
     "output_type": "display_data"
    }
   ],
   "source": [
    "# credit: https://www.kaggle.com/itratrahman/nlp-tutorial-using-python\n",
    "plt.xticks()\n",
    "plt.bar(10,democrats,3, label=\"Democrats\")\n",
    "plt.bar(15,Republican,3, label=\"Republican\")\n",
    "plt.legend()\n",
    "plt.ylabel('Number of Titles')\n",
    "plt.title('Proportion of examples')\n",
    "plt.show()"
   ]
  },
  {
   "cell_type": "code",
   "execution_count": null,
   "metadata": {
    "colab": {},
    "colab_type": "code",
    "id": "YBmMn9ejalvA"
   },
   "outputs": [],
   "source": [
    "# set up my X and y\n",
    "X = df['title']\n",
    "y = df['subreddit'].map({'Republican': 1, 'democrats': 0})"
   ]
  },
  {
   "cell_type": "code",
   "execution_count": null,
   "metadata": {
    "colab": {
     "base_uri": "https://localhost:8080/",
     "height": 69
    },
    "colab_type": "code",
    "id": "i0CdprSv1gxS",
    "outputId": "1bbb659c-a174-4c77-e7cb-d519c1c739be"
   },
   "outputs": [],
   "source": [
    "# baseline\n",
    "y.value_counts(normalize=True)"
   ]
  },
  {
   "cell_type": "code",
   "execution_count": null,
   "metadata": {
    "colab": {},
    "colab_type": "code",
    "id": "Pd8S3D_o4iBf"
   },
   "outputs": [],
   "source": [
    "lemmatizer = WordNetLemmatizer()\n",
    "def clean_strings(title):\n",
    "    title = re.sub(\"[^a-zA-Z]\", \" \", title.lower().strip()).split()\n",
    "    title = [lemmatizer.lemmatize(i) for i in title]\n",
    "    right_words = [w for w in title if w not in stopwords.words('english')]\n",
    "    return (\" \".join(right_words))\n",
    "df['title'] = df['title'].apply(clean_strings)"
   ]
  },
  {
   "cell_type": "code",
   "execution_count": null,
   "metadata": {
    "colab": {},
    "colab_type": "code",
    "id": "1-jrjj-RieVc"
   },
   "outputs": [],
   "source": [
    "# # uncomment to run while loop\n",
    "# # Credit: I cannot remember where I found this.\n",
    "# # Print most common word\n",
    "# n_print = int(input(\"How many most common words to print: \"))\n",
    "# print(\"\\nOK. The {} most common words are as follows\\n\".format(n_print))\n",
    "# word_counter = collections.Counter(df['title'])\n",
    "# for word, count in word_counter.most_common(n_print):\n",
    "#     print(f'{word}:{count}')"
   ]
  },
  {
   "cell_type": "markdown",
   "metadata": {
    "colab_type": "text",
    "id": "hEUptM26Xat1"
   },
   "source": [
    "### Split Train-Test"
   ]
  },
  {
   "cell_type": "code",
   "execution_count": null,
   "metadata": {
    "colab": {},
    "colab_type": "code",
    "id": "8Eld_fSzOUSV"
   },
   "outputs": [],
   "source": [
    "# Create train_test_split.\n",
    "X_train, X_test, y_train, y_test = train_test_split(X,\n",
    "                                                    y,\n",
    "                                                    test_size = 0.33,\n",
    "                                                    random_state = 42,\n",
    "                                                    stratify=y)"
   ]
  },
  {
   "cell_type": "markdown",
   "metadata": {
    "colab_type": "text",
    "id": "D2nShKYVZro7"
   },
   "source": [
    "### Logistic Regression"
   ]
  },
  {
   "cell_type": "code",
   "execution_count": null,
   "metadata": {
    "colab": {},
    "colab_type": "code",
    "id": "m1cF4Dqzdsv9"
   },
   "outputs": [],
   "source": [
    "# lr_pipe = Pipeline([('vect', CountVectorizer()), ('tfidf', TfidfTransformer()), ('lr',LogisticRegression())])\n",
    "# lr_pipe = lr_pipe.fit(X_train, y_train)"
   ]
  },
  {
   "cell_type": "code",
   "execution_count": null,
   "metadata": {
    "colab": {
     "base_uri": "https://localhost:8080/",
     "height": 176
    },
    "colab_type": "code",
    "id": "LMBPut2Mea8i",
    "outputId": "60457cb8-6755-45de-bc33-b835df1272fd"
   },
   "outputs": [],
   "source": [
    "pipe_lr_tf = Pipeline([\n",
    "    ('tf', TfidfVectorizer()),\n",
    "    ('lr', LogisticRegression())\n",
    "])\n",
    "\n",
    "params_lr_tf = {\n",
    "    'tf__stop_words':   [None, 'english'],\n",
    "    'tf__max_features': [4900, 5000, 5100], \n",
    "    'tf__ngram_range':  [(1,5), (2,3), (3,3)],\n",
    "    'lr__random_state': [42] \n",
    "}\n",
    "gs_lr_tf = GridSearchCV(pipe_lr_tf, \n",
    "                        param_grid=params_lr_tf,\n",
    "                        cv=5,\n",
    "                        n_jobs=2,\n",
    "                        verbose=1)\n",
    "\n",
    "gs_lr_tf.fit(X_train, y_train)\n",
    "\n",
    "print(f'GridSearch Best Params: {gs_lr_tf.best_params_}')\n",
    "print('Train Score:', gs_lr_tf.score(X_train, y_train))\n",
    "print('Test Score:', gs_lr_tf.score(X_test, y_test))\n",
    "print('Best Score:', gs_lr_tf.best_score_)"
   ]
  },
  {
   "cell_type": "markdown",
   "metadata": {
    "colab_type": "text",
    "id": "yk-T7zaBZvzw"
   },
   "source": [
    "### Multinomial Naïve Bayes Classifier"
   ]
  },
  {
   "cell_type": "code",
   "execution_count": null,
   "metadata": {
    "colab": {
     "base_uri": "https://localhost:8080/",
     "height": 176
    },
    "colab_type": "code",
    "id": "mAjTIMKdXQRJ",
    "outputId": "0b7aa7fb-41c9-437d-d4f5-cfc41d460273"
   },
   "outputs": [],
   "source": [
    "pipe_multinomial_nb_cvec = Pipeline([\n",
    "    ('cvec', CountVectorizer()),\n",
    "    ('multinomial_nb', MultinomialNB())\n",
    "])\n",
    "\n",
    "params_multinomial_nb_cvec = {\n",
    "    'cvec__stop_words':           [None, 'english'],\n",
    "    'cvec__max_features':         [7300,7325,7350], \n",
    "    'cvec__ngram_range':          [(1, 3), (1, 4), (1, 5)],\n",
    "    'multinomial_nb__alpha':     [5], \n",
    "    'multinomial_nb__fit_prior': [True, False]\n",
    "}\n",
    "\n",
    "gs_multinomial_nb_cvec = GridSearchCV(pipe_multinomial_nb_cvec, \n",
    "                        param_grid=params_multinomial_nb_cvec,\n",
    "                        cv=5,\n",
    "                        n_jobs=2,\n",
    "                        verbose=1)\n",
    "    \n",
    "gs_multinomial_nb_cvec.fit(X_train, y_train)\n",
    "\n",
    "print(f'GridSearch Best Params:{gs_multinomial_nb_cvec.best_params_}')\n",
    "print('Train Score:', gs_multinomial_nb_cvec.score(X_train, y_train))\n",
    "print('Test Score:', gs_multinomial_nb_cvec.score(X_test, y_test))\n",
    "print('Best Score:', gs_multinomial_nb_cvec.best_score_)"
   ]
  },
  {
   "cell_type": "markdown",
   "metadata": {
    "colab_type": "text",
    "id": "VcP6BR5_Z6zg"
   },
   "source": [
    "### Confusion Matrix"
   ]
  },
  {
   "cell_type": "code",
   "execution_count": null,
   "metadata": {
    "colab": {},
    "colab_type": "code",
    "id": "NQUZeO-0XQRL"
   },
   "outputs": [],
   "source": [
    "def conf_matrix(model, X_test, y_test):\n",
    "    y_hat = model.predict(X_test) \n",
    "    # get confusion matrix data\n",
    "    cm = confusion_matrix(y_test, y_hat)  \n",
    "    # extract elements of confusion matrix\n",
    "    tn, fp, fn, tp = cm.ravel()           \n",
    "    \n",
    "    # Convert Confusion Matrix to DataFrame\n",
    "    cm_df = pd.DataFrame(cm, columns = ['Predict r/democrats (y=0)', 'Predict r/Republican (y=1)'], index = ['Actual r/democrats (y=0)', 'Actual r/Republican (y=1)'])\n",
    "    return cm_df\n",
    "    \n",
    "def conf_matrix_metrics(model, X_test, y_test):\n",
    "    y_hat = model.predict(X_test) \n",
    "    cm = confusion_matrix(y_test, y_hat)  \n",
    "    tn, fp, fn, tp = cm.ravel()           \n",
    "    \n",
    "    #calculate metrics \n",
    "    accuracy = (tp + tn) / (tn + fp + fn + tp)\n",
    "    sensitivity = tp / (tp + fn)\n",
    "    specificity = tn/ (tn + fp)\n",
    "    precision = tp /(tp + fp)\n",
    "    \n",
    "    return {'accuracy': np.round(accuracy,3),\n",
    "            'sensitivity': np.round(sensitivity,3),\n",
    "            'specificity': np.round(specificity,3),\n",
    "            'precision': np.round(precision,3)}"
   ]
  },
  {
   "cell_type": "code",
   "execution_count": null,
   "metadata": {},
   "outputs": [],
   "source": []
  },
  {
   "cell_type": "code",
   "execution_count": null,
   "metadata": {
    "colab": {
     "base_uri": "https://localhost:8080/",
     "height": 127
    },
    "colab_type": "code",
    "id": "UhDGXyhsXQRN",
    "outputId": "90f04200-07ec-4404-b99d-0a8ebc1c34b1"
   },
   "outputs": [],
   "source": [
    "# Logistic Regression Confusion Matrix\n",
    "print(conf_matrix_metrics(gs_lr_tf, X_test, y_test))\n",
    "conf_matrix(gs_lr_tf, X_test, y_test)"
   ]
  },
  {
   "cell_type": "code",
   "execution_count": null,
   "metadata": {
    "colab": {
     "base_uri": "https://localhost:8080/",
     "height": 127
    },
    "colab_type": "code",
    "id": "AdsjORmEXQRP",
    "outputId": "40a35bf9-4822-4901-b80f-46e524badd0e"
   },
   "outputs": [],
   "source": [
    "# Multinomial Naïve Bayes Classifier Confusion Matrix\n",
    "print(conf_matrix_metrics(gs_multinomial_nb_cvec, X_test, y_test))\n",
    "conf_matrix(gs_multinomial_nb_cvec, X_test, y_test)"
   ]
  },
  {
   "cell_type": "code",
   "execution_count": null,
   "metadata": {
    "colab": {},
    "colab_type": "code",
    "id": "uScbyVodXQRS"
   },
   "outputs": [],
   "source": [
    "# get the words and their coefficients with the largest predictive values for Republican\n",
    "pos_coef=pd.DataFrame(\n",
    "list(zip(gs_lr_tf.best_estimator_[0].get_feature_names(),(gs_lr_tf.best_estimator_[1].coef_[0]))),\n",
    "columns=['word','coef']).sort_values('coef',ascending=False).head(50)"
   ]
  },
  {
   "cell_type": "code",
   "execution_count": null,
   "metadata": {
    "colab": {
     "base_uri": "https://localhost:8080/",
     "height": 416
    },
    "colab_type": "code",
    "id": "WBf5wi-HufvM",
    "outputId": "b3fb9beb-d031-48e9-d24f-6c019cac1e7b"
   },
   "outputs": [],
   "source": [
    "gs_lr_tf.best_estimator_"
   ]
  },
  {
   "cell_type": "code",
   "execution_count": null,
   "metadata": {
    "colab": {},
    "colab_type": "code",
    "id": "UEqcHJwvXQRU"
   },
   "outputs": [],
   "source": [
    "# get the words and their coefficients with the least predictive values for Republican\n",
    "neg_coef=pd.DataFrame(\n",
    "# list(zip(gs_lr_tf.best_estimator_[0].get_feature_names(),(gs_lr_tf.best_estimator_[1].coef_[0]))),\n",
    "#  columns=['word','coef']).sort_values('coef',ascending=True).head(5)\n",
    "list(zip(gs_lr_tf.best_estimator_[0].get_feature_names(),(gs_lr_tf.best_estimator_[1].coef_[0]))),\n",
    " columns=['word','coef']).sort_values('coef',ascending=True).head(50)"
   ]
  },
  {
   "cell_type": "code",
   "execution_count": null,
   "metadata": {
    "colab": {
     "base_uri": "https://localhost:8080/",
     "height": 415
    },
    "colab_type": "code",
    "id": "8zBwqockrYZF",
    "outputId": "d3be18f4-4ea3-423f-f65f-e07a0fba4a86"
   },
   "outputs": [],
   "source": [
    "# convert the positive coefficients into probabilities\n",
    "neg_coef['probs']=np.exp(neg_coef['coef'])/(1+np.exp(neg_coef['coef']))\n",
    "neg_coef"
   ]
  },
  {
   "cell_type": "code",
   "execution_count": null,
   "metadata": {
    "colab": {
     "base_uri": "https://localhost:8080/",
     "height": 415
    },
    "colab_type": "code",
    "id": "bbYFPnpur8cQ",
    "outputId": "933fbd07-0741-4680-ce1d-f00502cc7d88"
   },
   "outputs": [],
   "source": [
    "# convert the positive coefficients into probabilities\n",
    "pos_coef['probs']=np.exp(pos_coef['coef'])/(1+np.exp(pos_coef['coef']))\n",
    "pos_coef"
   ]
  },
  {
   "cell_type": "markdown",
   "metadata": {
    "colab_type": "text",
    "id": "MhfWuS1oxeJ7"
   },
   "source": [
    "## Step 5: Evaluation"
   ]
  },
  {
   "cell_type": "code",
   "execution_count": null,
   "metadata": {
    "colab": {
     "base_uri": "https://localhost:8080/",
     "height": 69
    },
    "colab_type": "code",
    "id": "HO1-Cgbxxj6Q",
    "outputId": "239e591b-6748-4191-8471-ed8c55507ccb"
   },
   "outputs": [],
   "source": [
    "# establish baseline estimator\n",
    "y_test.value_counts(normalize=True)\n",
    "\n",
    "# our Null is 48.9%"
   ]
  },
  {
   "cell_type": "code",
   "execution_count": null,
   "metadata": {
    "colab": {
     "base_uri": "https://localhost:8080/",
     "height": 208
    },
    "colab_type": "code",
    "id": "dd2o-AakAOZY",
    "outputId": "2eb6606a-006c-4d9a-b14f-4c11f5f1a73b"
   },
   "outputs": [],
   "source": [
    "print('Logistic Regression Training Score:', round(gs_lr_tf.score(X_train, y_train), 3))\n",
    "print('Multinomial Naïve Bayes Training Score:', round(gs_multinomial_nb_cvec.score(X_train, y_train), 3))\n",
    "print()\n",
    "print('Logistic Regression Test Score:', round(gs_lr_tf.score(X_test, y_test), 3))\n",
    "print('Multinomial Naïve Bayes Test Score:', round(gs_multinomial_nb_cvec.score(X_test, y_test), 3))\n",
    "print()\n",
    "print('Logistic Regression Best Score:', round(gs_lr_tf.best_score_, 4))\n",
    "print('Multinomial Naïve Bayes Best Score:', round(gs_multinomial_nb_cvec.best_score_, 4))\n",
    "print()\n",
    "print('Logistic Regression Classification Metrics:', conf_matrix_metrics(gs_lr_tf, X_test, y_test))\n",
    "print('Multinomial Classification Metrics:', conf_matrix_metrics(gs_multinomial_nb_cvec, X_test, y_test))"
   ]
  },
  {
   "cell_type": "markdown",
   "metadata": {},
   "source": [
    "## Prediction Testing"
   ]
  },
  {
   "cell_type": "code",
   "execution_count": null,
   "metadata": {},
   "outputs": [],
   "source": [
    "# Import \n",
    "df = pd.read_csv('clean.csv', usecols=['subreddit', 'title'])"
   ]
  },
  {
   "cell_type": "code",
   "execution_count": null,
   "metadata": {},
   "outputs": [],
   "source": [
    "# use this cell to index to the sample id pulled below. This way, you can confirm that the machine is predicting properly.\n",
    "df['title'][12988]"
   ]
  },
  {
   "cell_type": "code",
   "execution_count": null,
   "metadata": {},
   "outputs": [],
   "source": [
    "# pull 10 random sample from the df\n",
    "df_elements = df.sample(n=10)"
   ]
  },
  {
   "cell_type": "code",
   "execution_count": null,
   "metadata": {},
   "outputs": [],
   "source": [
    "df_elements"
   ]
  },
  {
   "cell_type": "code",
   "execution_count": null,
   "metadata": {
    "colab": {
     "base_uri": "https://localhost:8080/",
     "height": 35
    },
    "colab_type": "code",
    "id": "dtjTeHJCh9U8",
    "outputId": "1abc6651-39da-4a38-fdb5-b1e9c6b1ac65"
   },
   "outputs": [],
   "source": [
    "# use the sample above to see if the model can predict where it comes from\n",
    "print(gs_lr_tf.predict(['Twitter announced Friday']))"
   ]
  },
  {
   "cell_type": "markdown",
   "metadata": {
    "colab_type": "text",
    "id": "urrrGifVxUHC"
   },
   "source": [
    "## Step 6: Conclusion & Recommendation"
   ]
  },
  {
   "cell_type": "markdown",
   "metadata": {
    "colab_type": "text",
    "id": "z_wYsN5EKvbH"
   },
   "source": [
    "Tasked with analyzing the subreddits r/Republican and r/democrats, I sought out to identify patterns in both subreddits to see if I can predict what posts fell into which category.\n",
    "\n",
    "Below are the scores for each model followed by the classification metrics below:\n",
    "\n",
    "**Baseline Score**\n",
    "1    0.510479\n",
    "0    0.489521\n",
    "\n",
    "**Logistic Regression Training Score:** 0.801\n",
    "**Multinomial Naïve Bayes Training Score:** 0.769\n",
    "\n",
    "**Logistic Regression Test Score:** 0.691\n",
    "**Multinomial Naïve Bayes Test Score:** 0.688\n",
    "\n",
    "**Logistic Regression Best Score:** 0.7042\n",
    "**Multinomial Naïve Bayes Best Score:** 0.6978\n",
    "\n",
    "**Logistic Regression Classification Metrics:** {'accuracy': 0.691, 'sensitivity': 0.708, 'specificity': 0.673, 'precision': 0.693}\n",
    "**Multinomial Classification Metrics:** {'accuracy': 0.688, 'sensitivity': 0.653, 'specificity': 0.723, 'precision': 0.711}**\n",
    "\n",
    "What these scores indicate is that the model was able to beat the baseline but definitely needs some work.\n",
    "\n",
    "My recommendation from this point would be to find ways to apply weights to certain words so that they give a stronger probability of correctly predicting one subreddit over the other."
   ]
  }
 ],
 "metadata": {
  "colab": {
   "name": "Project3_Final.ipynb",
   "provenance": []
  },
  "kernelspec": {
   "display_name": "Python 3",
   "language": "python",
   "name": "python3"
  },
  "language_info": {
   "codemirror_mode": {
    "name": "ipython",
    "version": 3
   },
   "file_extension": ".py",
   "mimetype": "text/x-python",
   "name": "python",
   "nbconvert_exporter": "python",
   "pygments_lexer": "ipython3",
   "version": "3.7.6"
  }
 },
 "nbformat": 4,
 "nbformat_minor": 4
}
